{
 "cells": [
  {
   "cell_type": "markdown",
   "metadata": {},
   "source": [
    "# 知识图谱的概念与应用"
   ]
  },
  {
   "cell_type": "markdown",
   "metadata": {},
   "source": [
    "## 知识图谱与信息抽取\n",
    "\n",
    "### 知识图谱\n",
    "\n",
    "![1.1.1](1.1.1.png)\n",
    "<center>1.1.1 知识图谱的概念</center>\n",
    "\n",
    "知识图谱是由Google公司在2012年提出来的一个新的概念。从学术的角度，我们可以对知识图谱给一个这样的定义：“知识图谱本质上是语义网络（Semantic Network）的知识库”。但这有点抽象，所以换个角度，从实际应用的角度出发其实可以简单地把知识图谱理解成多关系图（Multi-relational Graph）。 \n",
    "\n",
    "那什么叫多关系图呢？ 学过数据结构的都应该知道什么是图（Graph）。图是由节点（Vertex）和边（Edge）来构成，但这些图通常只包含一种类型的节点和边。但相反，多关系图一般包含多种类型的节点和多种类型的边。比如左下图表示一个经典的图结构，右边的图则表示多关系图，因为图里包含了多种类型的节点和边。这些类型由不同的颜色来标记。\n",
    "\n",
    "![1.1.2](1.1.2.png)\n",
    "<center>1.1.2 不同类型的图</center>\n",
    "\n",
    "在知识图谱里，我们通常用“实体（Entity）”来表达图里的节点、用“关系（Relation）”来表达图里的“边”。实体指的是现实世界中的事物比如人、地名、概念、药物、公司等，关系则用来表达不同实体之间的某种联系，比如人-“居住在”-北京、张三和李四是“朋友”、逻辑回归是深度学习的“先导知识”等等。\n",
    "\n",
    "现实世界中的很多场景非常适合用知识图谱来表达。 比如一个社交网络图谱里，我们既可以有“人”的实体，也可以包含“公司”实体。人和人之间的关系可以是“朋友”，也可以是“同事”关系。人和公司之间的关系可以是“现任职”或者“曾任职”的关系。 类似的，一个风控知识图谱可以包含“电话”、“公司”的实体，电话和电话之间的关系可以是“通话”关系，而且每个公司它也会有固定的电话。\n",
    "\n",
    "![1.1.3](1.1.3.png)\n",
    "<center>1.1.3 知识图谱的应用</center>\n",
    "\n",
    "\n",
    "![知识图谱的应用](1.1.4.png)\n",
    "<center>1.1.4 知识图谱的应用</center>\n",
    "\n",
    "（以上部分内容来自[机器之心](https://www.jiqizhixin.com/articles/2018-06-20-4)）\n",
    "\n",
    "### 信息抽取\n",
    "\n",
    "![1.2.1](1.2.1.png)\n",
    "<center>1.2.1 信息抽取案例</center>\n",
    "\n",
    "![1.2.2](1.2.2.png)\n",
    "<center>1.2.2 什么是信息抽取案例</center>\n",
    "\n",
    "信息抽取（IE）过程是将嵌入在文本中的非结构化信息自动提取转换为结构化数据的过程。在文本中进行信息提取与文本简化问题相关联，一般目的是创建对机器来说可读性更强的文本来处理句子。一般需要借助自然语言处理来提取结构化的信息。\n",
    "\n",
    "![1.2.3](1.2.3.png)\n",
    "<center>1.2.3 自然语言处理的本质</center>\n",
    "\n",
    "![1.2.4](1.2.4.png)\n",
    "<center>1.2.4 信息抽取的4个主要任务</center>\n",
    "\n",
    "![1.2.5](1.2.5.png)\n",
    "<center>1.2.5 详解四个任务</center>\n",
    "\n",
    "1. 首先，我们关注四种不同的实体，每种实体用不同的颜色标识出来\n",
    "![1.2.6](1.2.6.png)\n",
    "<center>1.2.6 实体命名识别</center>\n",
    "\n",
    "2. 然后是提取命名实体之间的关系\n",
    "![1.2.7](1.2.7.png)\n",
    "<center>1.2.7 关系抽取</center>\n",
    "\n",
    "3. 由于自然语言的复杂性（同样一件事物，有不同的表达、说法），如“NYC”就是“NewYork”，所以我们需要实体统一\n",
    "![1.2.8](1.2.8.png)\n",
    "<center>1.2.8 实体统一</center>\n",
    "\n",
    "4. 同样自然语言之中会用到许多代词，我们需要知道每个代词的具体含义，因此需要指代消解\n",
    "![1.2.8](1.2.8.png)\n",
    "<center>1.2.8 实体统一</center>"
   ]
  },
  {
   "cell_type": "markdown",
   "metadata": {},
   "source": [
    "## 信息抽取构建知识图实例\n",
    "\n",
    "![2.1.1](2.1.1.png)\n",
    "<center>2.1.1 知识图谱的构建</center>\n",
    "\n",
    "![2.1.2](2.1.2.png)\n",
    "<center>2.1.2 构建糖尿病知识图谱</center>\n",
    "\n",
    "![2.1.3](2.1.3.png)\n",
    "<center>2.1.3 实体体系</center>\n",
    "\n",
    "![2.1.4](2.1.4.png)\n",
    "<center>2.1.4 关系体系</center>\n",
    "\n",
    "拿到了数据也定义好了实体和关系，就应该标注数据。\n",
    "![2.1.5](2.1.5.png)\n",
    "<center>2.1.5 标注数据</center>\n",
    "\n",
    "拿到已经标注好的数据，就进行分析\n",
    "![2.1.6](2.1.6.png)\n",
    "<center>2.1.6 实体分布分析</center>\n",
    "\n",
    "![2.1.7](2.1.7.png)\n",
    "<center>2.1.7 实体内容探索</center>"
   ]
  },
  {
   "cell_type": "markdown",
   "metadata": {},
   "source": [
    "## 正则表达式与AC自动机"
   ]
  },
  {
   "cell_type": "markdown",
   "metadata": {},
   "source": [
    "## 基于规则的信息抽取"
   ]
  },
  {
   "cell_type": "code",
   "execution_count": null,
   "metadata": {},
   "outputs": [],
   "source": []
  }
 ],
 "metadata": {
  "kernelspec": {
   "display_name": "Python 3",
   "language": "python",
   "name": "python3"
  },
  "language_info": {
   "codemirror_mode": {
    "name": "ipython",
    "version": 3
   },
   "file_extension": ".py",
   "mimetype": "text/x-python",
   "name": "python",
   "nbconvert_exporter": "python",
   "pygments_lexer": "ipython3",
   "version": "3.6.5"
  },
  "toc": {
   "base_numbering": 1,
   "nav_menu": {},
   "number_sections": true,
   "sideBar": true,
   "skip_h1_title": false,
   "title_cell": "Table of Contents",
   "title_sidebar": "Contents",
   "toc_cell": false,
   "toc_position": {},
   "toc_section_display": true,
   "toc_window_display": false
  },
  "varInspector": {
   "cols": {
    "lenName": 16,
    "lenType": 16,
    "lenVar": 40
   },
   "kernels_config": {
    "python": {
     "delete_cmd_postfix": "",
     "delete_cmd_prefix": "del ",
     "library": "var_list.py",
     "varRefreshCmd": "print(var_dic_list())"
    },
    "r": {
     "delete_cmd_postfix": ") ",
     "delete_cmd_prefix": "rm(",
     "library": "var_list.r",
     "varRefreshCmd": "cat(var_dic_list()) "
    }
   },
   "types_to_exclude": [
    "module",
    "function",
    "builtin_function_or_method",
    "instance",
    "_Feature"
   ],
   "window_display": false
  }
 },
 "nbformat": 4,
 "nbformat_minor": 2
}
